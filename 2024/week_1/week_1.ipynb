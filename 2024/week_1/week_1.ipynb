{
 "cells": [
  {
   "cell_type": "code",
   "execution_count": 9,
   "metadata": {},
   "outputs": [
    {
     "name": "stdout",
     "output_type": "stream",
     "text": [
      "The flow card dataframe is identical to the provided solution: True\n",
      "The non flow card dataframe is identical to the provided solution: True\n"
     ]
    }
   ],
   "source": [
    "\"\"\"\n",
    "INSTRUCTIONS:\n",
    "Split the Flight Details field to form:\n",
    "    Date \n",
    "    Flight Number\n",
    "    From\n",
    "    To\n",
    "    Class\n",
    "    Price\n",
    "Convert the following data fields to the correct data types:\n",
    "    Date to a date format\n",
    "    Price to a decimal value\n",
    "Change the Flow Card field to Yes / No values instead of 1 / 0\n",
    "Create two tables, one for Flow Card holders and one for non-Flow Card holders\n",
    "\"\"\"\n",
    "#from pandas.util.testing import assert_frame_equal\n",
    "from pandas.testing import assert_frame_equal\n",
    "import pandas as pd\n",
    "import numpy as np\n",
    "df = pd.read_csv('../../raw_data/2024/week_1/PD 2024 Wk 1 Input.csv')\n",
    "# Split by delimiter\n",
    "df[['Date', 'Flight Number', 'From-To', 'Class', 'Price']] = df['Flight Details'].str.split('//', expand=True)\n",
    "\n",
    "# Remove 'Flight Details' column\n",
    "df = df.drop('Flight Details', axis=1)\n",
    "\n",
    "# Split 'From-To' into 'From' and 'To'\n",
    "df[['From', 'To']] = df['From-To'].str.split('-', expand=True)\n",
    "\n",
    "# Remove 'From-To' column\n",
    "df = df.drop('From-To', axis=1)\n",
    "\n",
    "# Convert 'Date' to a date format\n",
    "df['Date'] = pd.to_datetime(df['Date'], format='%Y-%m-%d')\n",
    "# Convert 'Date' to string matching the solution\n",
    "df['Date'] = df['Date'].dt.strftime('%d/%m/%Y')\n",
    "# Convert 'Price' from 'object to a float\n",
    "df['Price'] = df['Price'].astype(float)\n",
    "\n",
    "\n",
    "# Round to 2 decimal places for cents\n",
    "df = df.round({'Price': 2})\n",
    "\n",
    "\n",
    "# Change the Flow Card field to Yes / No values instead of 1 / 0\n",
    "df['Flow Card?'] = df['Flow Card?'].replace({1: 'Yes', 0: 'No'})\n",
    "\n",
    "# Sort the columns to match the solution to verify accuracy\n",
    "df = df[['Date', 'Flight Number', 'From', 'To', 'Class', 'Price', 'Flow Card?',\n",
    "    'Bags Checked', 'Meal Type']]\n",
    "\n",
    "# Create two tables, one for Flow Card holders and one for non-Flow Card holders\n",
    "flow_card_holders = df[df['Flow Card?'] == 'Yes']\n",
    "flow_card_holders.reset_index(drop=True, inplace=True)\n",
    "\n",
    "non_flow_card_holders = df[df['Flow Card?'] == 'No']\n",
    "non_flow_card_holders.reset_index(drop=True, inplace=True)\n",
    "\n",
    "# Compare the dataframes to the provided solution\n",
    "flow_card_holders_solution = pd.read_csv('../../solutions/2024/week_1/PD 2024 Wk 1 Output Flow Card.csv')\n",
    "non_flow_card_holders_solution = pd.read_csv('../../solutions/2024/week_1/PD 2024 Wk 1 Output Non-Flow Card.csv')\n",
    "\n",
    "print(f'The flow card dataframe is identical to the provided solution: {flow_card_holders.equals(flow_card_holders_solution)}')\n",
    "print(f'The non flow card dataframe is identical to the provided solution: {non_flow_card_holders.equals(non_flow_card_holders_solution)}')\n",
    "\n",
    "# Write the two tables to separate CSV files\n",
    "\n",
    "# flow_card_holders.to_csv('../../prepped_data/2024/week_1/flow_card_holders.csv', index=False)\n",
    "# non_flow_card_holders.to_csv('../../prepped_data/2024/week_1/non_flow_card_holders.csv', index=False)"
   ]
  },
  {
   "cell_type": "code",
   "execution_count": null,
   "metadata": {},
   "outputs": [],
   "source": []
  }
 ],
 "metadata": {
  "kernelspec": {
   "display_name": "Python 3",
   "language": "python",
   "name": "python3"
  },
  "language_info": {
   "codemirror_mode": {
    "name": "ipython",
    "version": 3
   },
   "file_extension": ".py",
   "mimetype": "text/x-python",
   "name": "python",
   "nbconvert_exporter": "python",
   "pygments_lexer": "ipython3",
   "version": "3.9.4"
  }
 },
 "nbformat": 4,
 "nbformat_minor": 2
}
