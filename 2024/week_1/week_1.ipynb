{
 "cells": [
  {
   "cell_type": "code",
   "execution_count": 31,
   "metadata": {},
   "outputs": [
    {
     "name": "stdout",
     "output_type": "stream",
     "text": [
      "  Flow Card?  Bags Checked   Meal Type       Date Flight Number  \\\n",
      "0        Yes             0    Egg Free 2024-07-22         PA010   \n",
      "2        Yes             1       Vegan 2024-04-20         PA002   \n",
      "3        Yes             1  Vegetarian 2024-01-23         PA010   \n",
      "6        Yes             3       Vegan 2024-06-05         PA006   \n",
      "8        Yes             1    Nut Free 2024-03-30         PA004   \n",
      "\n",
      "             Class   Price      From        To  \n",
      "0          Economy 2380.00     Tokyo  New York  \n",
      "2          Economy 3490.00  New York    London  \n",
      "3  Premium Economy  825.00     Tokyo  New York  \n",
      "6      First Class  618.00     Tokyo    London  \n",
      "8      First Class  446.00     Perth    London  \n",
      "   Flow Card?  Bags Checked   Meal Type       Date Flight Number  \\\n",
      "1          No             2  Vegetarian 2024-09-28         PA008   \n",
      "4          No             0  Vegetarian 2024-10-01         PA008   \n",
      "5          No             3    Nut Free 2024-03-04         PA007   \n",
      "7          No             0         NaN 2024-02-25         PA010   \n",
      "13         No             2       Vegan 2024-03-29         PA004   \n",
      "\n",
      "              Class   Price      From        To  \n",
      "1           Economy 1855.00     Perth  New York  \n",
      "4    Business Class  634.80     Perth  New York  \n",
      "5    Business Class  458.40  New York     Perth  \n",
      "7   Premium Economy 1435.00     Tokyo  New York  \n",
      "13          Economy 2730.00     Perth    London  \n"
     ]
    }
   ],
   "source": [
    "\"\"\"\n",
    "INSTRUCTIONS:\n",
    "Split the Flight Details field to form:\n",
    "    Date \n",
    "    Flight Number\n",
    "    From\n",
    "    To\n",
    "    Class\n",
    "    Price\n",
    "Convert the following data fields to the correct data types:\n",
    "    Date to a date format\n",
    "    Price to a decimal value\n",
    "Change the Flow Card field to Yes / No values instead of 1 / 0\n",
    "Create two tables, one for Flow Card holders and one for non-Flow Card holders\n",
    "\"\"\"\n",
    "import pandas as pd\n",
    "import numpy as np\n",
    "df = pd.read_csv('../../raw_data/2024/week_1/PD 2024 Wk 1 Input.csv')\n",
    "# Split by delimiter\n",
    "df[['Date', 'Flight Number', 'From-To', 'Class', 'Price']] = df['Flight Details'].str.split('//', expand=True)\n",
    "\n",
    "# Remove 'Flight Details' column\n",
    "df = df.drop('Flight Details', axis=1)\n",
    "\n",
    "# Split 'From-To' into 'From' and 'To'\n",
    "df[['From', 'To']] = df['From-To'].str.split('-', expand=True)\n",
    "\n",
    "# Remove 'From-To' column\n",
    "df = df.drop('From-To', axis=1)\n",
    "\n",
    "# Convert 'Date' to a date format\n",
    "df['Date'] = pd.to_datetime(df['Date'], format='%Y-%m-%d')\n",
    "# Convert 'Price' from 'object to a float\n",
    "df['Price'] = df['Price'].astype(float)\n",
    "\n",
    "# Round to 2 decimal places for cents\n",
    "df = df.round({'Price': 2})\n",
    "\n",
    "\n",
    "# Change the Flow Card field to Yes / No values instead of 1 / 0\n",
    "df['Flow Card?'] = df['Flow Card?'].replace({1: 'Yes', 0: 'No'})\n",
    "\n",
    "# Create two tables, one for Flow Card holders and one for non-Flow Card holders\n",
    "flow_card_holders = df[df['Flow Card?'] == 'Yes']\n",
    "non_flow_card_holders = df[df['Flow Card?'] == 'No']\n",
    "\n",
    "# View first 5 rows of each dataframe\n",
    "print(flow_card_holders.head())\n",
    "print(non_flow_card_holders.head())\n",
    "\n",
    "# Write the two tables to separate CSV files\n",
    "\n",
    "# flow_card_holders.to_csv('../../prepped_data/2024/week_1/flow_card_holders.csv', index=False)\n",
    "# non_flow_card_holders.to_csv('../../prepped_data/2024/week_1/non_flow_card_holders.csv', index=False)"
   ]
  },
  {
   "cell_type": "code",
   "execution_count": null,
   "metadata": {},
   "outputs": [],
   "source": []
  }
 ],
 "metadata": {
  "kernelspec": {
   "display_name": "Python 3",
   "language": "python",
   "name": "python3"
  },
  "language_info": {
   "codemirror_mode": {
    "name": "ipython",
    "version": 3
   },
   "file_extension": ".py",
   "mimetype": "text/x-python",
   "name": "python",
   "nbconvert_exporter": "python",
   "pygments_lexer": "ipython3",
   "version": "3.9.4"
  }
 },
 "nbformat": 4,
 "nbformat_minor": 2
}
